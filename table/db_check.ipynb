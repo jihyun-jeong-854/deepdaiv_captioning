{
 "cells": [
  {
   "cell_type": "code",
   "execution_count": 1,
   "metadata": {},
   "outputs": [],
   "source": [
    "import pandas as pd\n",
    "hashtag=pd.read_csv(\"hashtag_db.csv\")\n",
    "num_categories=len(hashtag)\n",
    "categories=list(hashtag.iloc[:,0])"
   ]
  },
  {
   "cell_type": "code",
   "execution_count": 1,
   "metadata": {},
   "outputs": [
    {
     "name": "stderr",
     "output_type": "stream",
     "text": [
      "/home/yyk8809/anaconda3/envs/daiv/lib/python3.8/site-packages/tqdm/auto.py:22: TqdmWarning: IProgress not found. Please update jupyter and ipywidgets. See https://ipywidgets.readthedocs.io/en/stable/user_install.html\n",
      "  from .autonotebook import tqdm as notebook_tqdm\n",
      "No model was supplied, defaulted to dbmdz/bert-large-cased-finetuned-conll03-english (https://huggingface.co/dbmdz/bert-large-cased-finetuned-conll03-english)\n",
      "/home/yyk8809/anaconda3/envs/daiv/lib/python3.8/site-packages/transformers/pipelines/token_classification.py:135: UserWarning: `grouped_entities` is deprecated and will be removed in version v5.0.0, defaulted to `aggregation_strategy=\"AggregationStrategy.SIMPLE\"` instead.\n",
      "  warnings.warn(\n"
     ]
    },
    {
     "name": "stdout",
     "output_type": "stream",
     "text": [
      "['Lionel Messi', 'FC Barcelona', 'English Premier League']\n"
     ]
    }
   ],
   "source": [
    "from transformers import pipeline\n",
    "\n",
    "text = [\"I love to play football.\", \"I am a huge fan of Lionel Messi.\", \"My favorite team is FC Barcelona.\", \"I enjoy watching the English Premier League.\"]\n",
    "\n",
    "nlp = pipeline(\"ner\", grouped_entities=True)\n",
    "results = [nlp(sentence) for sentence in text]\n",
    "\n",
    "keywords = []\n",
    "for result in results:\n",
    "    for entity in result:\n",
    "        if entity[\"word\"] not in keywords:\n",
    "            keywords.append(entity[\"word\"])\n",
    "\n",
    "print(keywords)"
   ]
  },
  {
   "cell_type": "code",
   "execution_count": 2,
   "metadata": {},
   "outputs": [
    {
     "data": {
      "text/plain": [
       "['일상',\n",
       " '맛집',\n",
       " '카페',\n",
       " '소통',\n",
       " '셀카',\n",
       " 'ootd',\n",
       " '여행',\n",
       " '육아',\n",
       " '요리',\n",
       " '패션',\n",
       " '운동',\n",
       " '직장',\n",
       " '뷰티',\n",
       " '사랑']"
      ]
     },
     "execution_count": 2,
     "metadata": {},
     "output_type": "execute_result"
    }
   ],
   "source": [
    "categories"
   ]
  },
  {
   "cell_type": "code",
   "execution_count": 3,
   "metadata": {},
   "outputs": [],
   "source": [
    "hashtag_dict={}\n",
    "for i in range(len(hashtag)):\n",
    "    hashtags=hashtag.iloc[:,1][i].replace(\" \", \"\").split(\"#\")[1:]\n",
    "    hashtags=list(set(hashtags))\n",
    "    hashtag_dict[hashtag.iloc[:, 0][i]]=hashtags"
   ]
  },
  {
   "cell_type": "code",
   "execution_count": 4,
   "metadata": {},
   "outputs": [
    {
     "data": {
      "text/plain": [
       "['하루일과',\n",
       " '소통',\n",
       " '사진스타그램',\n",
       " '실시간',\n",
       " 'daily',\n",
       " '일싱스타그램',\n",
       " '데일리스타그램',\n",
       " '일기장',\n",
       " 'instadaily',\n",
       " '인스타일상',\n",
       " '선팔히면맞팔',\n",
       " 'fff',\n",
       " '일상소통그램',\n",
       " '주말',\n",
       " '그냥',\n",
       " '일상스타그램',\n",
       " '꿀주말',\n",
       " '데일리그램',\n",
       " '첫줄안녀',\n",
       " '오랜만',\n",
       " '소통해요',\n",
       " '오늘',\n",
       " '월요일',\n",
       " '일상',\n",
       " '소통환영',\n",
       " '맞팔',\n",
       " 'l4l',\n",
       " '어제',\n",
       " '데일리',\n",
       " '좋아요반사',\n",
       " 'instagood',\n",
       " 'f4f',\n",
       " 'follow',\n",
       " '좋반',\n",
       " '팔로우',\n",
       " 'instagram',\n",
       " '인스타굿',\n",
       " '오후',\n",
       " '일요일',\n",
       " '월요병',\n",
       " '휴무',\n",
       " '선팔',\n",
       " '좋아요']"
      ]
     },
     "execution_count": 4,
     "metadata": {},
     "output_type": "execute_result"
    }
   ],
   "source": [
    "hashtag_dict[\"일상\"]"
   ]
  },
  {
   "cell_type": "code",
   "execution_count": 3,
   "metadata": {},
   "outputs": [
    {
     "name": "stderr",
     "output_type": "stream",
     "text": [
      "/home/yyk8809/anaconda3/envs/daiv/lib/python3.8/site-packages/gradio/deprecation.py:40: UserWarning: `optional` parameter is deprecated, and it has no effect\n",
      "  warnings.warn(value)\n"
     ]
    },
    {
     "name": "stdout",
     "output_type": "stream",
     "text": [
      "Running on local URL:  http://127.0.0.1:7860\n",
      "\n",
      "To create a public link, set `share=True` in `launch()`.\n"
     ]
    },
    {
     "data": {
      "text/html": [
       "<div><iframe src=\"http://127.0.0.1:7860/\" width=\"100%\" height=\"500\" allow=\"autoplay; camera; microphone; clipboard-read; clipboard-write;\" frameborder=\"0\" allowfullscreen></iframe></div>"
      ],
      "text/plain": [
       "<IPython.core.display.HTML object>"
      ]
     },
     "metadata": {},
     "output_type": "display_data"
    },
    {
     "data": {
      "text/plain": []
     },
     "execution_count": 3,
     "metadata": {},
     "output_type": "execute_result"
    }
   ],
   "source": [
    "import gradio as gr\n",
    "def image_classifier(inp):\n",
    "  return {'cat': 0.3, 'dog': 0.7}\n",
    "iface = gr.Interface(fn=image_classifier, inputs=gr.inputs.Image(type=\"filepath\"), outputs=\"label\")\n",
    "iface.launch()"
   ]
  },
  {
   "cell_type": "code",
   "execution_count": null,
   "metadata": {},
   "outputs": [],
   "source": []
  }
 ],
 "metadata": {
  "kernelspec": {
   "display_name": "daiv",
   "language": "python",
   "name": "python3"
  },
  "language_info": {
   "codemirror_mode": {
    "name": "ipython",
    "version": 3
   },
   "file_extension": ".py",
   "mimetype": "text/x-python",
   "name": "python",
   "nbconvert_exporter": "python",
   "pygments_lexer": "ipython3",
   "version": "3.8.16"
  },
  "orig_nbformat": 4,
  "vscode": {
   "interpreter": {
    "hash": "1084c015a744939c8c2aff9008fad942b61e5206848afefff5e23596d708e6f8"
   }
  }
 },
 "nbformat": 4,
 "nbformat_minor": 2
}
