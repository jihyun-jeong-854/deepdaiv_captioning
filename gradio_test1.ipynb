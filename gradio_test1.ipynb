{
 "cells": [
  {
   "cell_type": "code",
   "execution_count": 2,
   "metadata": {},
   "outputs": [
    {
     "name": "stdout",
     "output_type": "stream",
     "text": [
      "Running on local URL:  http://127.0.0.1:7863\n",
      "Running on public URL: https://71eaa525fb2777592c.gradio.live\n",
      "\n",
      "This share link expires in 72 hours. For free permanent hosting and GPU upgrades (NEW!), check out Spaces: https://huggingface.co/spaces\n"
     ]
    },
    {
     "data": {
      "text/html": [
       "<div><iframe src=\"https://71eaa525fb2777592c.gradio.live\" width=\"100%\" height=\"500\" allow=\"autoplay; camera; microphone; clipboard-read; clipboard-write;\" frameborder=\"0\" allowfullscreen></iframe></div>"
      ],
      "text/plain": [
       "<IPython.core.display.HTML object>"
      ]
     },
     "metadata": {},
     "output_type": "display_data"
    },
    {
     "data": {
      "text/plain": []
     },
     "execution_count": 2,
     "metadata": {},
     "output_type": "execute_result"
    }
   ],
   "source": [
    "import numpy as np\n",
    "import gradio as gr\n",
    "\n",
    "def sepia(input_img):\n",
    "    sepia_filter = np.array([\n",
    "        [0.393, 0.769, 0.189], \n",
    "        [0.349, 0.686, 0.168], \n",
    "        [0.272, 0.534, 0.131]\n",
    "    ])\n",
    "    sepia_img = input_img.dot(sepia_filter.T)\n",
    "    sepia_img /= sepia_img.max()\n",
    "    return sepia_img\n",
    "\n",
    "demo = gr.Interface(sepia, gr.Image(shape=(200, 200)), \"image\")\n",
    "demo.launch(share=True)"
   ]
  },
  {
   "cell_type": "code",
   "execution_count": 7,
   "metadata": {},
   "outputs": [
    {
     "name": "stderr",
     "output_type": "stream",
     "text": [
      "Using cache found in /home/yyk8809/.cache/torch/hub/pytorch_vision_v0.6.0\n",
      "/home/yyk8809/anaconda3/envs/daiv/lib/python3.8/site-packages/gradio/utils.py:846: UserWarning: Expected 1 arguments for function <function predict at 0x7fb48e212550>, received 2.\n",
      "  warnings.warn(\n",
      "/home/yyk8809/anaconda3/envs/daiv/lib/python3.8/site-packages/gradio/utils.py:854: UserWarning: Expected maximum 1 arguments for function <function predict at 0x7fb48e212550>, received 2.\n",
      "  warnings.warn(\n"
     ]
    },
    {
     "ename": "ValueError",
     "evalue": "The parameter `examples` must either be a string directory or a list(if there is only 1 input component) or (more generally), a nested list, where each sublist represents a set of inputs.",
     "output_type": "error",
     "traceback": [
      "\u001b[0;31m---------------------------------------------------------------------------\u001b[0m",
      "\u001b[0;31mValueError\u001b[0m                                Traceback (most recent call last)",
      "Cell \u001b[0;32mIn[7], line 21\u001b[0m\n\u001b[1;32m     17\u001b[0m   \u001b[39mreturn\u001b[39;00m confidences\n\u001b[1;32m     19\u001b[0m \u001b[39mimport\u001b[39;00m \u001b[39mgradio\u001b[39;00m \u001b[39mas\u001b[39;00m \u001b[39mgr\u001b[39;00m\n\u001b[0;32m---> 21\u001b[0m gr\u001b[39m.\u001b[39;49mInterface(fn\u001b[39m=\u001b[39;49mpredict, \n\u001b[1;32m     22\u001b[0m              inputs\u001b[39m=\u001b[39;49m[gr\u001b[39m.\u001b[39;49mImage(\u001b[39mtype\u001b[39;49m\u001b[39m=\u001b[39;49m\u001b[39m\"\u001b[39;49m\u001b[39mpil\u001b[39;49m\u001b[39m\"\u001b[39;49m), gr\u001b[39m.\u001b[39;49mImage(\u001b[39mtype\u001b[39;49m\u001b[39m=\u001b[39;49m\u001b[39m\"\u001b[39;49m\u001b[39mpil\u001b[39;49m\u001b[39m\"\u001b[39;49m)],\n\u001b[1;32m     23\u001b[0m              outputs\u001b[39m=\u001b[39;49mgr\u001b[39m.\u001b[39;49mLabel(num_top_classes\u001b[39m=\u001b[39;49m\u001b[39m3\u001b[39;49m),\n\u001b[1;32m     24\u001b[0m              examples\u001b[39m=\u001b[39;49m[\u001b[39m\"\u001b[39;49m\u001b[39mlion.jpg\u001b[39;49m\u001b[39m\"\u001b[39;49m, \u001b[39m\"\u001b[39;49m\u001b[39mcheetah.jpg\u001b[39;49m\u001b[39m\"\u001b[39;49m])\u001b[39m.\u001b[39mlaunch(share\u001b[39m=\u001b[39m\u001b[39mTrue\u001b[39;00m)\n",
      "File \u001b[0;32m~/anaconda3/envs/daiv/lib/python3.8/site-packages/gradio/interface.py:481\u001b[0m, in \u001b[0;36mInterface.__init__\u001b[0;34m(self, fn, inputs, outputs, examples, cache_examples, examples_per_page, live, interpretation, num_shap, title, description, article, thumbnail, theme, css, allow_flagging, flagging_options, flagging_dir, flagging_callback, analytics_enabled, batch, max_batch_size, _api_mode, **kwargs)\u001b[0m\n\u001b[1;32m    473\u001b[0m     \u001b[39mself\u001b[39m\u001b[39m.\u001b[39mattach_interpretation_events(\n\u001b[1;32m    474\u001b[0m         interpretation_btn,\n\u001b[1;32m    475\u001b[0m         interpretation_set,\n\u001b[1;32m    476\u001b[0m         input_component_column,\n\u001b[1;32m    477\u001b[0m         interpret_component_column,\n\u001b[1;32m    478\u001b[0m     )\n\u001b[1;32m    480\u001b[0m     \u001b[39mself\u001b[39m\u001b[39m.\u001b[39mattach_flagging_events(flag_btns, clear_btn)\n\u001b[0;32m--> 481\u001b[0m     \u001b[39mself\u001b[39;49m\u001b[39m.\u001b[39;49mrender_examples()\n\u001b[1;32m    482\u001b[0m     \u001b[39mself\u001b[39m\u001b[39m.\u001b[39mrender_article()\n\u001b[1;32m    484\u001b[0m \u001b[39mself\u001b[39m\u001b[39m.\u001b[39mconfig \u001b[39m=\u001b[39m \u001b[39mself\u001b[39m\u001b[39m.\u001b[39mget_config_file()\n",
      "File \u001b[0;32m~/anaconda3/envs/daiv/lib/python3.8/site-packages/gradio/interface.py:797\u001b[0m, in \u001b[0;36mInterface.render_examples\u001b[0;34m(self)\u001b[0m\n\u001b[1;32m    791\u001b[0m non_state_inputs \u001b[39m=\u001b[39m [\n\u001b[1;32m    792\u001b[0m     c \u001b[39mfor\u001b[39;00m c \u001b[39min\u001b[39;00m \u001b[39mself\u001b[39m\u001b[39m.\u001b[39minput_components \u001b[39mif\u001b[39;00m \u001b[39mnot\u001b[39;00m \u001b[39misinstance\u001b[39m(c, State)\n\u001b[1;32m    793\u001b[0m ]\n\u001b[1;32m    794\u001b[0m non_state_outputs \u001b[39m=\u001b[39m [\n\u001b[1;32m    795\u001b[0m     c \u001b[39mfor\u001b[39;00m c \u001b[39min\u001b[39;00m \u001b[39mself\u001b[39m\u001b[39m.\u001b[39moutput_components \u001b[39mif\u001b[39;00m \u001b[39mnot\u001b[39;00m \u001b[39misinstance\u001b[39m(c, State)\n\u001b[1;32m    796\u001b[0m ]\n\u001b[0;32m--> 797\u001b[0m \u001b[39mself\u001b[39m\u001b[39m.\u001b[39mexamples_handler \u001b[39m=\u001b[39m Examples(\n\u001b[1;32m    798\u001b[0m     examples\u001b[39m=\u001b[39;49m\u001b[39mself\u001b[39;49m\u001b[39m.\u001b[39;49mexamples,\n\u001b[1;32m    799\u001b[0m     inputs\u001b[39m=\u001b[39;49mnon_state_inputs,  \u001b[39m# type: ignore\u001b[39;49;00m\n\u001b[1;32m    800\u001b[0m     outputs\u001b[39m=\u001b[39;49mnon_state_outputs,  \u001b[39m# type: ignore\u001b[39;49;00m\n\u001b[1;32m    801\u001b[0m     fn\u001b[39m=\u001b[39;49m\u001b[39mself\u001b[39;49m\u001b[39m.\u001b[39;49mfn,\n\u001b[1;32m    802\u001b[0m     cache_examples\u001b[39m=\u001b[39;49m\u001b[39mself\u001b[39;49m\u001b[39m.\u001b[39;49mcache_examples,\n\u001b[1;32m    803\u001b[0m     examples_per_page\u001b[39m=\u001b[39;49m\u001b[39mself\u001b[39;49m\u001b[39m.\u001b[39;49mexamples_per_page,\n\u001b[1;32m    804\u001b[0m     _api_mode\u001b[39m=\u001b[39;49m\u001b[39mself\u001b[39;49m\u001b[39m.\u001b[39;49mapi_mode,\n\u001b[1;32m    805\u001b[0m     batch\u001b[39m=\u001b[39;49m\u001b[39mself\u001b[39;49m\u001b[39m.\u001b[39;49mbatch,\n\u001b[1;32m    806\u001b[0m )\n",
      "File \u001b[0;32m~/anaconda3/envs/daiv/lib/python3.8/site-packages/gradio/helpers.py:53\u001b[0m, in \u001b[0;36mcreate_examples\u001b[0;34m(examples, inputs, outputs, fn, cache_examples, examples_per_page, _api_mode, label, elem_id, run_on_click, preprocess, postprocess, batch)\u001b[0m\n\u001b[1;32m     37\u001b[0m \u001b[39mdef\u001b[39;00m \u001b[39mcreate_examples\u001b[39m(\n\u001b[1;32m     38\u001b[0m     examples: List[Any] \u001b[39m|\u001b[39m List[List[Any]] \u001b[39m|\u001b[39m \u001b[39mstr\u001b[39m,\n\u001b[1;32m     39\u001b[0m     inputs: IOComponent \u001b[39m|\u001b[39m List[IOComponent],\n\u001b[0;32m   (...)\u001b[0m\n\u001b[1;32m     50\u001b[0m     batch: \u001b[39mbool\u001b[39m \u001b[39m=\u001b[39m \u001b[39mFalse\u001b[39;00m,\n\u001b[1;32m     51\u001b[0m ):\n\u001b[1;32m     52\u001b[0m \u001b[39m    \u001b[39m\u001b[39m\"\"\"Top-level synchronous function that creates Examples. Provided for backwards compatibility, i.e. so that gr.Examples(...) can be used to create the Examples component.\"\"\"\u001b[39;00m\n\u001b[0;32m---> 53\u001b[0m     examples_obj \u001b[39m=\u001b[39m Examples(\n\u001b[1;32m     54\u001b[0m         examples\u001b[39m=\u001b[39;49mexamples,\n\u001b[1;32m     55\u001b[0m         inputs\u001b[39m=\u001b[39;49minputs,\n\u001b[1;32m     56\u001b[0m         outputs\u001b[39m=\u001b[39;49moutputs,\n\u001b[1;32m     57\u001b[0m         fn\u001b[39m=\u001b[39;49mfn,\n\u001b[1;32m     58\u001b[0m         cache_examples\u001b[39m=\u001b[39;49mcache_examples,\n\u001b[1;32m     59\u001b[0m         examples_per_page\u001b[39m=\u001b[39;49mexamples_per_page,\n\u001b[1;32m     60\u001b[0m         _api_mode\u001b[39m=\u001b[39;49m_api_mode,\n\u001b[1;32m     61\u001b[0m         label\u001b[39m=\u001b[39;49mlabel,\n\u001b[1;32m     62\u001b[0m         elem_id\u001b[39m=\u001b[39;49melem_id,\n\u001b[1;32m     63\u001b[0m         run_on_click\u001b[39m=\u001b[39;49mrun_on_click,\n\u001b[1;32m     64\u001b[0m         preprocess\u001b[39m=\u001b[39;49mpreprocess,\n\u001b[1;32m     65\u001b[0m         postprocess\u001b[39m=\u001b[39;49mpostprocess,\n\u001b[1;32m     66\u001b[0m         batch\u001b[39m=\u001b[39;49mbatch,\n\u001b[1;32m     67\u001b[0m         _initiated_directly\u001b[39m=\u001b[39;49m\u001b[39mFalse\u001b[39;49;00m,\n\u001b[1;32m     68\u001b[0m     )\n\u001b[1;32m     69\u001b[0m     utils\u001b[39m.\u001b[39msynchronize_async(examples_obj\u001b[39m.\u001b[39mcreate)\n\u001b[1;32m     70\u001b[0m     \u001b[39mreturn\u001b[39;00m examples_obj\n",
      "File \u001b[0;32m~/anaconda3/envs/daiv/lib/python3.8/site-packages/gradio/helpers.py:164\u001b[0m, in \u001b[0;36mExamples.__init__\u001b[0;34m(self, examples, inputs, outputs, fn, cache_examples, examples_per_page, _api_mode, label, elem_id, run_on_click, preprocess, postprocess, batch, _initiated_directly)\u001b[0m\n\u001b[1;32m    159\u001b[0m             examples \u001b[39m=\u001b[39m [\n\u001b[1;32m    160\u001b[0m                 examples[i][: \u001b[39mlen\u001b[39m(inputs)] \u001b[39mfor\u001b[39;00m i \u001b[39min\u001b[39;00m \u001b[39mrange\u001b[39m(\u001b[39m1\u001b[39m, \u001b[39mlen\u001b[39m(examples))\n\u001b[1;32m    161\u001b[0m             ]  \u001b[39m# remove header and unnecessary columns\u001b[39;00m\n\u001b[1;32m    163\u001b[0m \u001b[39melse\u001b[39;00m:\n\u001b[0;32m--> 164\u001b[0m     \u001b[39mraise\u001b[39;00m \u001b[39mValueError\u001b[39;00m(\n\u001b[1;32m    165\u001b[0m         \u001b[39m\"\u001b[39m\u001b[39mThe parameter `examples` must either be a string directory or a list\u001b[39m\u001b[39m\"\u001b[39m\n\u001b[1;32m    166\u001b[0m         \u001b[39m\"\u001b[39m\u001b[39m(if there is only 1 input component) or (more generally), a nested \u001b[39m\u001b[39m\"\u001b[39m\n\u001b[1;32m    167\u001b[0m         \u001b[39m\"\u001b[39m\u001b[39mlist, where each sublist represents a set of inputs.\u001b[39m\u001b[39m\"\u001b[39m\n\u001b[1;32m    168\u001b[0m     )\n\u001b[1;32m    170\u001b[0m input_has_examples \u001b[39m=\u001b[39m [\u001b[39mFalse\u001b[39;00m] \u001b[39m*\u001b[39m \u001b[39mlen\u001b[39m(inputs)\n\u001b[1;32m    171\u001b[0m \u001b[39mfor\u001b[39;00m example \u001b[39min\u001b[39;00m examples:\n",
      "\u001b[0;31mValueError\u001b[0m: The parameter `examples` must either be a string directory or a list(if there is only 1 input component) or (more generally), a nested list, where each sublist represents a set of inputs."
     ]
    }
   ],
   "source": [
    "import torch\n",
    "import requests\n",
    "from PIL import Image\n",
    "from torchvision import transforms\n",
    "\n",
    "model = torch.hub.load('pytorch/vision:v0.6.0', 'resnet18', pretrained=True).eval()\n",
    "\n",
    "# Download human-readable labels for ImageNet.\n",
    "response = requests.get(\"https://git.io/JJkYN\")\n",
    "labels = response.text.split(\"\\n\")\n",
    "\n",
    "def predict(inp):\n",
    "  inp = transforms.ToTensor()(inp).unsqueeze(0)\n",
    "  with torch.no_grad():\n",
    "    prediction = torch.nn.functional.softmax(model(inp)[0], dim=0)\n",
    "    confidences = {labels[i]: float(prediction[i]) for i in range(1000)}    \n",
    "  return confidences\n",
    "\n",
    "import gradio as gr\n",
    "\n",
    "gr.Interface(fn=predict, \n",
    "             inputs=gr.Image(type=\"pil\"),\n",
    "             outputs=gr.Label(num_top_classes=3),\n",
    "             examples=[\"lion.jpg\", \"cheetah.jpg\"]).launch(share=True)"
   ]
  },
  {
   "cell_type": "code",
   "execution_count": null,
   "metadata": {},
   "outputs": [],
   "source": [
    "import gradio as gr\n",
    "\n",
    "def greet(name):\n",
    "    return \"Hello \" + name + \"!\"\n",
    "\n",
    "with gr.Blocks() as demo:\n",
    "    name = gr.Textbox(label=\"Name\")\n",
    "    output = gr.Textbox(label=\"Output Box\")\n",
    "    greet_btn = gr.Button(\"Greet\")\n",
    "    greet_btn.click(fn=greet, inputs=name, outputs=output)\n",
    "\n",
    "demo.launch()"
   ]
  }
 ],
 "metadata": {
  "kernelspec": {
   "display_name": "daiv",
   "language": "python",
   "name": "python3"
  },
  "language_info": {
   "codemirror_mode": {
    "name": "ipython",
    "version": 3
   },
   "file_extension": ".py",
   "mimetype": "text/x-python",
   "name": "python",
   "nbconvert_exporter": "python",
   "pygments_lexer": "ipython3",
   "version": "3.8.16"
  },
  "orig_nbformat": 4
 },
 "nbformat": 4,
 "nbformat_minor": 2
}
